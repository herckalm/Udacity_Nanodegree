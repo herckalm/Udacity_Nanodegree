{
 "cells": [
  {
   "cell_type": "markdown",
   "metadata": {},
   "source": [
    "# This notebook describes the process of cleaning the original PISA 2012 dataset in order to use it in my analysis.\n",
    "\n",
    "\n",
    "\n",
    "## Preliminary Wrangling"
   ]
  },
  {
   "cell_type": "code",
   "execution_count": 1,
   "metadata": {},
   "outputs": [],
   "source": [
    "#import needed package\n",
    "import pandas as pd"
   ]
  },
  {
   "cell_type": "markdown",
   "metadata": {},
   "source": [
    "- By opening the \"pisadict_2012.csv\" file in Excel I found that there are 635 columns in the original dataset. The file contains a list of those columns along with their descriptions. I used this information in order to load only the columns that I needed for my analysis (which I'll describe in the exploration notebook (\"Data_Exploration.ipynb\")."
   ]
  },
  {
   "cell_type": "code",
   "execution_count": 2,
   "metadata": {
    "scrolled": true
   },
   "outputs": [],
   "source": [
    "#reading the dataset into a dataframe using only the needed columns\n",
    "pisa_2012 = pd.read_csv(\"data/pisa_2012.csv\", encoding='latin-1', \n",
    "                        usecols= ['CNT','STIDSTD','ST04Q01','PV1MATH', 'PV1SCIE','ST11Q01','ST11Q02',\n",
    "                                  'ST11Q03','ST11Q04','ST57Q05','HISCED'],\n",
    "                        dtype={21:str, 22:str, 23:str, 24:str}\n",
    "                       )"
   ]
  },
  {
   "cell_type": "code",
   "execution_count": 3,
   "metadata": {
    "scrolled": true
   },
   "outputs": [
    {
     "data": {
      "text/plain": [
       "Index(['CNT', 'STIDSTD', 'ST04Q01', 'ST11Q01', 'ST11Q02', 'ST11Q03', 'ST11Q04',\n",
       "       'ST57Q05', 'HISCED', 'PV1MATH', 'PV1SCIE'],\n",
       "      dtype='object')"
      ]
     },
     "execution_count": 3,
     "metadata": {},
     "output_type": "execute_result"
    }
   ],
   "source": [
    "#checking if the columns loaded correctly\n",
    "pisa_2012.columns"
   ]
  },
  {
   "cell_type": "code",
   "execution_count": 4,
   "metadata": {},
   "outputs": [],
   "source": [
    "#rename the columns using meaningfull names\n",
    "pisa_2012.rename({'STIDSTD':'Student_Id', 'ST04Q01':'Gender','CNT':'Country',\n",
    "                  'PV1MATH':'Math_Score','PV1SCIE':'Science_Score','ST11Q01':'Mother_Present', 'ST11Q02':'Father_Present',\n",
    "                  'ST11Q03':'Brother(s)_Present','ST11Q04':'Sister(s)_Present','ST57Q05':'Study_Time_With_Parent',\n",
    "                  'HISCED':'Parent_Highest_Education'\n",
    "                 }, axis='columns', inplace=True)"
   ]
  },
  {
   "cell_type": "markdown",
   "metadata": {},
   "source": [
    "##### Checking various aspects of the dataset"
   ]
  },
  {
   "cell_type": "code",
   "execution_count": 5,
   "metadata": {},
   "outputs": [
    {
     "data": {
      "text/plain": [
       "Index(['Country', 'Student_Id', 'Gender', 'Mother_Present', 'Father_Present',\n",
       "       'Brother(s)_Present', 'Sister(s)_Present', 'Study_Time_With_Parent',\n",
       "       'Parent_Highest_Education', 'Math_Score', 'Science_Score'],\n",
       "      dtype='object')"
      ]
     },
     "execution_count": 5,
     "metadata": {},
     "output_type": "execute_result"
    }
   ],
   "source": [
    "pisa_2012.columns"
   ]
  },
  {
   "cell_type": "code",
   "execution_count": 6,
   "metadata": {},
   "outputs": [
    {
     "data": {
      "text/plain": [
       "(485490, 11)"
      ]
     },
     "execution_count": 6,
     "metadata": {},
     "output_type": "execute_result"
    }
   ],
   "source": [
    "pisa_2012.shape"
   ]
  },
  {
   "cell_type": "code",
   "execution_count": 7,
   "metadata": {
    "scrolled": true
   },
   "outputs": [
    {
     "name": "stdout",
     "output_type": "stream",
     "text": [
      "<class 'pandas.core.frame.DataFrame'>\n",
      "RangeIndex: 485490 entries, 0 to 485489\n",
      "Data columns (total 11 columns):\n",
      " #   Column                    Non-Null Count   Dtype  \n",
      "---  ------                    --------------   -----  \n",
      " 0   Country                   485490 non-null  object \n",
      " 1   Student_Id                485490 non-null  int64  \n",
      " 2   Gender                    485490 non-null  object \n",
      " 3   Mother_Present            460559 non-null  object \n",
      " 4   Father_Present            441036 non-null  object \n",
      " 5   Brother(s)_Present        400076 non-null  object \n",
      " 6   Sister(s)_Present         390768 non-null  object \n",
      " 7   Study_Time_With_Parent    289502 non-null  float64\n",
      " 8   Parent_Highest_Education  473091 non-null  object \n",
      " 9   Math_Score                485490 non-null  float64\n",
      " 10  Science_Score             485490 non-null  float64\n",
      "dtypes: float64(3), int64(1), object(7)\n",
      "memory usage: 40.7+ MB\n"
     ]
    }
   ],
   "source": [
    "pisa_2012.info()"
   ]
  },
  {
   "cell_type": "code",
   "execution_count": 8,
   "metadata": {
    "scrolled": true
   },
   "outputs": [
    {
     "data": {
      "text/html": [
       "<div>\n",
       "<style scoped>\n",
       "    .dataframe tbody tr th:only-of-type {\n",
       "        vertical-align: middle;\n",
       "    }\n",
       "\n",
       "    .dataframe tbody tr th {\n",
       "        vertical-align: top;\n",
       "    }\n",
       "\n",
       "    .dataframe thead th {\n",
       "        text-align: right;\n",
       "    }\n",
       "</style>\n",
       "<table border=\"1\" class=\"dataframe\">\n",
       "  <thead>\n",
       "    <tr style=\"text-align: right;\">\n",
       "      <th></th>\n",
       "      <th>Country</th>\n",
       "      <th>Student_Id</th>\n",
       "      <th>Gender</th>\n",
       "      <th>Mother_Present</th>\n",
       "      <th>Father_Present</th>\n",
       "      <th>Brother(s)_Present</th>\n",
       "      <th>Sister(s)_Present</th>\n",
       "      <th>Study_Time_With_Parent</th>\n",
       "      <th>Parent_Highest_Education</th>\n",
       "      <th>Math_Score</th>\n",
       "      <th>Science_Score</th>\n",
       "    </tr>\n",
       "  </thead>\n",
       "  <tbody>\n",
       "    <tr>\n",
       "      <th>0</th>\n",
       "      <td>Albania</td>\n",
       "      <td>1</td>\n",
       "      <td>Female</td>\n",
       "      <td>Yes</td>\n",
       "      <td>Yes</td>\n",
       "      <td>Yes</td>\n",
       "      <td>Yes</td>\n",
       "      <td>NaN</td>\n",
       "      <td>ISCED 3A, ISCED 4</td>\n",
       "      <td>406.8469</td>\n",
       "      <td>341.7009</td>\n",
       "    </tr>\n",
       "    <tr>\n",
       "      <th>1</th>\n",
       "      <td>Albania</td>\n",
       "      <td>2</td>\n",
       "      <td>Female</td>\n",
       "      <td>Yes</td>\n",
       "      <td>Yes</td>\n",
       "      <td>NaN</td>\n",
       "      <td>Yes</td>\n",
       "      <td>0.0</td>\n",
       "      <td>ISCED 5A, 6</td>\n",
       "      <td>486.1427</td>\n",
       "      <td>548.9929</td>\n",
       "    </tr>\n",
       "    <tr>\n",
       "      <th>2</th>\n",
       "      <td>Albania</td>\n",
       "      <td>3</td>\n",
       "      <td>Female</td>\n",
       "      <td>Yes</td>\n",
       "      <td>Yes</td>\n",
       "      <td>No</td>\n",
       "      <td>Yes</td>\n",
       "      <td>2.0</td>\n",
       "      <td>ISCED 5A, 6</td>\n",
       "      <td>533.2684</td>\n",
       "      <td>499.6643</td>\n",
       "    </tr>\n",
       "    <tr>\n",
       "      <th>3</th>\n",
       "      <td>Albania</td>\n",
       "      <td>4</td>\n",
       "      <td>Female</td>\n",
       "      <td>Yes</td>\n",
       "      <td>Yes</td>\n",
       "      <td>No</td>\n",
       "      <td>Yes</td>\n",
       "      <td>0.0</td>\n",
       "      <td>ISCED 5A, 6</td>\n",
       "      <td>412.2215</td>\n",
       "      <td>438.6796</td>\n",
       "    </tr>\n",
       "    <tr>\n",
       "      <th>4</th>\n",
       "      <td>Albania</td>\n",
       "      <td>5</td>\n",
       "      <td>Female</td>\n",
       "      <td>Yes</td>\n",
       "      <td>Yes</td>\n",
       "      <td>Yes</td>\n",
       "      <td>NaN</td>\n",
       "      <td>NaN</td>\n",
       "      <td>ISCED 3A, ISCED 4</td>\n",
       "      <td>381.9209</td>\n",
       "      <td>361.5628</td>\n",
       "    </tr>\n",
       "  </tbody>\n",
       "</table>\n",
       "</div>"
      ],
      "text/plain": [
       "   Country  Student_Id  Gender Mother_Present Father_Present  \\\n",
       "0  Albania           1  Female            Yes            Yes   \n",
       "1  Albania           2  Female            Yes            Yes   \n",
       "2  Albania           3  Female            Yes            Yes   \n",
       "3  Albania           4  Female            Yes            Yes   \n",
       "4  Albania           5  Female            Yes            Yes   \n",
       "\n",
       "  Brother(s)_Present Sister(s)_Present  Study_Time_With_Parent  \\\n",
       "0                Yes               Yes                     NaN   \n",
       "1                NaN               Yes                     0.0   \n",
       "2                 No               Yes                     2.0   \n",
       "3                 No               Yes                     0.0   \n",
       "4                Yes               NaN                     NaN   \n",
       "\n",
       "  Parent_Highest_Education  Math_Score  Science_Score  \n",
       "0        ISCED 3A, ISCED 4    406.8469       341.7009  \n",
       "1              ISCED 5A, 6    486.1427       548.9929  \n",
       "2              ISCED 5A, 6    533.2684       499.6643  \n",
       "3              ISCED 5A, 6    412.2215       438.6796  \n",
       "4        ISCED 3A, ISCED 4    381.9209       361.5628  "
      ]
     },
     "execution_count": 8,
     "metadata": {},
     "output_type": "execute_result"
    }
   ],
   "source": [
    "pisa_2012.head()"
   ]
  },
  {
   "cell_type": "code",
   "execution_count": 9,
   "metadata": {},
   "outputs": [
    {
     "data": {
      "text/html": [
       "<div>\n",
       "<style scoped>\n",
       "    .dataframe tbody tr th:only-of-type {\n",
       "        vertical-align: middle;\n",
       "    }\n",
       "\n",
       "    .dataframe tbody tr th {\n",
       "        vertical-align: top;\n",
       "    }\n",
       "\n",
       "    .dataframe thead th {\n",
       "        text-align: right;\n",
       "    }\n",
       "</style>\n",
       "<table border=\"1\" class=\"dataframe\">\n",
       "  <thead>\n",
       "    <tr style=\"text-align: right;\">\n",
       "      <th></th>\n",
       "      <th>Student_Id</th>\n",
       "      <th>Study_Time_With_Parent</th>\n",
       "      <th>Math_Score</th>\n",
       "      <th>Science_Score</th>\n",
       "    </tr>\n",
       "  </thead>\n",
       "  <tbody>\n",
       "    <tr>\n",
       "      <th>count</th>\n",
       "      <td>485490.000000</td>\n",
       "      <td>289502.000000</td>\n",
       "      <td>485490.000000</td>\n",
       "      <td>485490.000000</td>\n",
       "    </tr>\n",
       "    <tr>\n",
       "      <th>mean</th>\n",
       "      <td>6134.066201</td>\n",
       "      <td>1.213363</td>\n",
       "      <td>469.621653</td>\n",
       "      <td>475.769824</td>\n",
       "    </tr>\n",
       "    <tr>\n",
       "      <th>std</th>\n",
       "      <td>6733.144944</td>\n",
       "      <td>2.353292</td>\n",
       "      <td>103.265391</td>\n",
       "      <td>101.464426</td>\n",
       "    </tr>\n",
       "    <tr>\n",
       "      <th>min</th>\n",
       "      <td>1.000000</td>\n",
       "      <td>0.000000</td>\n",
       "      <td>19.792800</td>\n",
       "      <td>2.648300</td>\n",
       "    </tr>\n",
       "    <tr>\n",
       "      <th>25%</th>\n",
       "      <td>1811.000000</td>\n",
       "      <td>0.000000</td>\n",
       "      <td>395.318600</td>\n",
       "      <td>404.457300</td>\n",
       "    </tr>\n",
       "    <tr>\n",
       "      <th>50%</th>\n",
       "      <td>3740.000000</td>\n",
       "      <td>0.000000</td>\n",
       "      <td>466.201900</td>\n",
       "      <td>475.699400</td>\n",
       "    </tr>\n",
       "    <tr>\n",
       "      <th>75%</th>\n",
       "      <td>7456.000000</td>\n",
       "      <td>2.000000</td>\n",
       "      <td>541.057800</td>\n",
       "      <td>547.780700</td>\n",
       "    </tr>\n",
       "    <tr>\n",
       "      <th>max</th>\n",
       "      <td>33806.000000</td>\n",
       "      <td>30.000000</td>\n",
       "      <td>962.229300</td>\n",
       "      <td>903.338300</td>\n",
       "    </tr>\n",
       "  </tbody>\n",
       "</table>\n",
       "</div>"
      ],
      "text/plain": [
       "          Student_Id  Study_Time_With_Parent     Math_Score  Science_Score\n",
       "count  485490.000000           289502.000000  485490.000000  485490.000000\n",
       "mean     6134.066201                1.213363     469.621653     475.769824\n",
       "std      6733.144944                2.353292     103.265391     101.464426\n",
       "min         1.000000                0.000000      19.792800       2.648300\n",
       "25%      1811.000000                0.000000     395.318600     404.457300\n",
       "50%      3740.000000                0.000000     466.201900     475.699400\n",
       "75%      7456.000000                2.000000     541.057800     547.780700\n",
       "max     33806.000000               30.000000     962.229300     903.338300"
      ]
     },
     "execution_count": 9,
     "metadata": {},
     "output_type": "execute_result"
    }
   ],
   "source": [
    "pisa_2012.describe()"
   ]
  },
  {
   "cell_type": "markdown",
   "metadata": {},
   "source": [
    "#### From the above results I can identify the follwing problems that need to be addressed before I start my analysis.\n",
    ">- The 'Study_Time_With_Parent' column contains 289502 rows with NULL values (which is the column with almost 50% of missing values)\n",
    ">- The 'Study_Time_With_Parent' is of type float instead of int\n",
    ">- The columns 'Mother_Present' and 'Father_Present' could be in one column (Parent_Present)\n",
    ">- The columns 'Brother(s)_Present' and 'Sister(s)_Present' could be in one column (Sibling_Present)\n",
    ">- Calculate a mean score for the 'Math_Score' and 'Science_Score' columns\n",
    ">- The columns Gender, Parent_Present, Sibling_Present and Parent_Highest_Education should be categories"
   ]
  },
  {
   "cell_type": "markdown",
   "metadata": {},
   "source": [
    "#### Start cleaning the dataset"
   ]
  },
  {
   "cell_type": "code",
   "execution_count": 10,
   "metadata": {},
   "outputs": [],
   "source": [
    "# making a copy of the original dataset\n",
    "pisa_final = pisa_2012.copy()"
   ]
  },
  {
   "cell_type": "code",
   "execution_count": 11,
   "metadata": {},
   "outputs": [],
   "source": [
    "# I decided to replace the missing values of  'Study_Time_With_Parent' with the mean value\n",
    "# of that column in order not to lose significant amount of data\n",
    "pisa_final.Study_Time_With_Parent.fillna(pisa_final.Study_Time_With_Parent.mean(), inplace=True)"
   ]
  },
  {
   "cell_type": "code",
   "execution_count": 12,
   "metadata": {},
   "outputs": [],
   "source": [
    "pisa_final.loc[:,'Study_Time_With_Parent'] = pisa_final['Study_Time_With_Parent'].astype('int64')"
   ]
  },
  {
   "cell_type": "code",
   "execution_count": 13,
   "metadata": {},
   "outputs": [],
   "source": [
    "# As for the other missing values I'll drop the coressponding rows\n",
    "pisa_final = pisa_final.dropna(subset=['Mother_Present', 'Father_Present','Brother(s)_Present', 'Sister(s)_Present',\n",
    "                                     'Parent_Highest_Education'])"
   ]
  },
  {
   "cell_type": "code",
   "execution_count": 14,
   "metadata": {},
   "outputs": [
    {
     "data": {
      "text/plain": [
       "(347783, 11)"
      ]
     },
     "execution_count": 14,
     "metadata": {},
     "output_type": "execute_result"
    }
   ],
   "source": [
    "pisa_final.shape"
   ]
  },
  {
   "cell_type": "code",
   "execution_count": 15,
   "metadata": {},
   "outputs": [],
   "source": [
    "# Merging the 'Mother_Present' and 'Father_Present' into a single column 'Parents_Present'\n",
    "pisa_final['Parents_Present'] = ((pisa_final['Mother_Present'] == 'No') | (pisa_final['Father_Present'] == 'No')).replace(False, 'Both_Parents').replace(True, 'One_Parent')\n",
    "pisa_final = pisa_final.drop(['Mother_Present','Father_Present'], axis=1)"
   ]
  },
  {
   "cell_type": "code",
   "execution_count": 16,
   "metadata": {},
   "outputs": [],
   "source": [
    "# Merging the 'Brother(s)_Present' and 'Sister(s)_Present' into a single column 'Siblings_Present'\n",
    "pisa_final['Siblings_Present'] = ((pisa_final['Brother(s)_Present'] == 'No') | (pisa_final['Sister(s)_Present'] == 'No')).replace(False, 'Yes').replace(True, 'No')\n",
    "pisa_final = pisa_final.drop(['Brother(s)_Present','Sister(s)_Present'], axis=1)"
   ]
  },
  {
   "cell_type": "code",
   "execution_count": 17,
   "metadata": {},
   "outputs": [
    {
     "data": {
      "text/plain": [
       "Index(['Country', 'Student_Id', 'Gender', 'Study_Time_With_Parent',\n",
       "       'Parent_Highest_Education', 'Math_Score', 'Science_Score',\n",
       "       'Parents_Present', 'Siblings_Present'],\n",
       "      dtype='object')"
      ]
     },
     "execution_count": 17,
     "metadata": {},
     "output_type": "execute_result"
    }
   ],
   "source": [
    "pisa_final.columns"
   ]
  },
  {
   "cell_type": "code",
   "execution_count": 18,
   "metadata": {},
   "outputs": [
    {
     "data": {
      "text/html": [
       "<div>\n",
       "<style scoped>\n",
       "    .dataframe tbody tr th:only-of-type {\n",
       "        vertical-align: middle;\n",
       "    }\n",
       "\n",
       "    .dataframe tbody tr th {\n",
       "        vertical-align: top;\n",
       "    }\n",
       "\n",
       "    .dataframe thead th {\n",
       "        text-align: right;\n",
       "    }\n",
       "</style>\n",
       "<table border=\"1\" class=\"dataframe\">\n",
       "  <thead>\n",
       "    <tr style=\"text-align: right;\">\n",
       "      <th></th>\n",
       "      <th>Country</th>\n",
       "      <th>Student_Id</th>\n",
       "      <th>Gender</th>\n",
       "      <th>Study_Time_With_Parent</th>\n",
       "      <th>Parent_Highest_Education</th>\n",
       "      <th>Math_Score</th>\n",
       "      <th>Science_Score</th>\n",
       "      <th>Parents_Present</th>\n",
       "      <th>Siblings_Present</th>\n",
       "      <th>Mean_Score</th>\n",
       "    </tr>\n",
       "  </thead>\n",
       "  <tbody>\n",
       "    <tr>\n",
       "      <th>0</th>\n",
       "      <td>Albania</td>\n",
       "      <td>1</td>\n",
       "      <td>Female</td>\n",
       "      <td>1</td>\n",
       "      <td>ISCED 3A, ISCED 4</td>\n",
       "      <td>406.8469</td>\n",
       "      <td>341.7009</td>\n",
       "      <td>Both_Parents</td>\n",
       "      <td>Yes</td>\n",
       "      <td>374.27390</td>\n",
       "    </tr>\n",
       "    <tr>\n",
       "      <th>2</th>\n",
       "      <td>Albania</td>\n",
       "      <td>3</td>\n",
       "      <td>Female</td>\n",
       "      <td>2</td>\n",
       "      <td>ISCED 5A, 6</td>\n",
       "      <td>533.2684</td>\n",
       "      <td>499.6643</td>\n",
       "      <td>Both_Parents</td>\n",
       "      <td>No</td>\n",
       "      <td>516.46635</td>\n",
       "    </tr>\n",
       "    <tr>\n",
       "      <th>3</th>\n",
       "      <td>Albania</td>\n",
       "      <td>4</td>\n",
       "      <td>Female</td>\n",
       "      <td>0</td>\n",
       "      <td>ISCED 5A, 6</td>\n",
       "      <td>412.2215</td>\n",
       "      <td>438.6796</td>\n",
       "      <td>Both_Parents</td>\n",
       "      <td>No</td>\n",
       "      <td>425.45055</td>\n",
       "    </tr>\n",
       "    <tr>\n",
       "      <th>5</th>\n",
       "      <td>Albania</td>\n",
       "      <td>6</td>\n",
       "      <td>Female</td>\n",
       "      <td>1</td>\n",
       "      <td>ISCED 3B, C</td>\n",
       "      <td>396.3312</td>\n",
       "      <td>384.3156</td>\n",
       "      <td>Both_Parents</td>\n",
       "      <td>No</td>\n",
       "      <td>390.32340</td>\n",
       "    </tr>\n",
       "    <tr>\n",
       "      <th>6</th>\n",
       "      <td>Albania</td>\n",
       "      <td>7</td>\n",
       "      <td>Female</td>\n",
       "      <td>0</td>\n",
       "      <td>ISCED 5A, 6</td>\n",
       "      <td>438.0823</td>\n",
       "      <td>508.1499</td>\n",
       "      <td>Both_Parents</td>\n",
       "      <td>No</td>\n",
       "      <td>473.11610</td>\n",
       "    </tr>\n",
       "  </tbody>\n",
       "</table>\n",
       "</div>"
      ],
      "text/plain": [
       "   Country  Student_Id  Gender  Study_Time_With_Parent  \\\n",
       "0  Albania           1  Female                       1   \n",
       "2  Albania           3  Female                       2   \n",
       "3  Albania           4  Female                       0   \n",
       "5  Albania           6  Female                       1   \n",
       "6  Albania           7  Female                       0   \n",
       "\n",
       "  Parent_Highest_Education  Math_Score  Science_Score Parents_Present  \\\n",
       "0        ISCED 3A, ISCED 4    406.8469       341.7009    Both_Parents   \n",
       "2              ISCED 5A, 6    533.2684       499.6643    Both_Parents   \n",
       "3              ISCED 5A, 6    412.2215       438.6796    Both_Parents   \n",
       "5              ISCED 3B, C    396.3312       384.3156    Both_Parents   \n",
       "6              ISCED 5A, 6    438.0823       508.1499    Both_Parents   \n",
       "\n",
       "  Siblings_Present  Mean_Score  \n",
       "0              Yes   374.27390  \n",
       "2               No   516.46635  \n",
       "3               No   425.45055  \n",
       "5               No   390.32340  \n",
       "6               No   473.11610  "
      ]
     },
     "execution_count": 18,
     "metadata": {},
     "output_type": "execute_result"
    }
   ],
   "source": [
    "# Calculate the mean score of Math and Science\n",
    "pisa_final['Mean_Score'] = (pisa_final['Math_Score'] + pisa_final['Science_Score']) / 2\n",
    "pisa_final.head()"
   ]
  },
  {
   "cell_type": "code",
   "execution_count": 19,
   "metadata": {
    "scrolled": true
   },
   "outputs": [
    {
     "data": {
      "text/plain": [
       "Country                       object\n",
       "Student_Id                     int64\n",
       "Gender                      category\n",
       "Study_Time_With_Parent         int64\n",
       "Parent_Highest_Education    category\n",
       "Math_Score                   float64\n",
       "Science_Score                float64\n",
       "Parents_Present             category\n",
       "Siblings_Present            category\n",
       "Mean_Score                   float64\n",
       "dtype: object"
      ]
     },
     "execution_count": 19,
     "metadata": {},
     "output_type": "execute_result"
    }
   ],
   "source": [
    "# converting the following columns: Gender, Parent_Present, Sibling_Present, Parent_Highest_Education,\n",
    "# Parent_Highest_Occupation and Immigration_Status into categories categories\n",
    "\n",
    "gender_dtype = pd.api.types.CategoricalDtype(categories=['Female','Male'])\n",
    "pisa_final.loc[:,'Gender'] = pisa_final.Gender.astype(gender_dtype)\n",
    "\n",
    "parents_present_dtype = pd.api.types.CategoricalDtype(categories=['Both_Parents','One_Parent'])\n",
    "pisa_final.loc[:,'Parents_Present'] = pisa_final['Parents_Present'].astype(parents_present_dtype)\n",
    "\n",
    "\n",
    "siblings_present_dtype = pd.api.types.CategoricalDtype(categories=['Yes','No'])\n",
    "pisa_final.loc[:,'Siblings_Present'] = pisa_final['Siblings_Present'].astype(siblings_present_dtype)\n",
    "\n",
    "\n",
    "parent_education_dtype = pd.api.types.CategoricalDtype(\n",
    "                    categories=['None','ISCED 1','ISCED 2','ISCED 3B, C','ISCED 3A, ISCED 4','ISCED 5B','ISCED 5A, 6'],\n",
    "                    ordered=True)\n",
    "pisa_final.loc[:,'Parent_Highest_Education'] = pisa_final['Parent_Highest_Education'].astype(parent_education_dtype)\n",
    "\n",
    "\n",
    "pisa_final.dtypes"
   ]
  },
  {
   "cell_type": "code",
   "execution_count": 20,
   "metadata": {},
   "outputs": [],
   "source": [
    "# finally I'll save the dataset in an external csv file for future reference\n",
    "pisa_final.to_csv(\"data/pisa2012_final.csv\", index=False, encoding='latin-1')"
   ]
  },
  {
   "cell_type": "markdown",
   "metadata": {},
   "source": [
    "## Continue to \"Data_Exploration\" notebook for the main analysis of the dataset"
   ]
  }
 ],
 "metadata": {
  "kernelspec": {
   "display_name": "Python 3",
   "language": "python",
   "name": "python3"
  },
  "language_info": {
   "codemirror_mode": {
    "name": "ipython",
    "version": 3
   },
   "file_extension": ".py",
   "mimetype": "text/x-python",
   "name": "python",
   "nbconvert_exporter": "python",
   "pygments_lexer": "ipython3",
   "version": "3.7.7"
  }
 },
 "nbformat": 4,
 "nbformat_minor": 2
}
